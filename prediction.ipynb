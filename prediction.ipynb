{
 "cells": [
  {
   "cell_type": "code",
   "execution_count": 20,
   "metadata": {},
   "outputs": [
    {
     "name": "stdout",
     "output_type": "stream",
     "text": [
      "Data include:\n",
      " dict_keys(['train_data', 'test_data'])\n",
      "Test Results:\n",
      "                    Test Score\n",
      "roc_auc              0.943596\n",
      "accuracy             0.876508\n",
      "balanced_accuracy    0.854214\n",
      "mcc                  0.716544\n",
      "f1                   0.806895\n",
      "precision            0.824614\n",
      "recall               0.789921\n"
     ]
    }
   ],
   "source": [
    "import gzip\n",
    "import pickle\n",
    "\n",
    "import pandas as pd\n",
    "import numpy as np\n",
    "from autogluon.tabular import TabularDataset, TabularPredictor\n",
    "from rdkit.Chem import Descriptors\n",
    "from rdkit import Chem\n",
    "from pathlib import Path\n",
    "\n",
    "# load dataset\n",
    "with gzip.open(\"/home/jykim/Project_poster/final_presentation/dataset.pkl\", \"rb\") as f:\n",
    "    data = pickle.load(f)\n",
    "\n",
    "print(\"Data include:\\n\",data.keys())\n",
    "\n",
    "## drop unnecessary columns\n",
    "test = data['test_data'].drop([\"COSMIC.ID\",\"pubchem\",\"SMILES\",\"SMILES2\"], axis=1)\n",
    "\n",
    "# load model\n",
    "predictor = TabularPredictor.load(\"checkpoints/chem_Circular_FP_exp_128_mut_30/\")\n",
    "prediction_metrics = pd.DataFrame.from_dict(predictor.evaluate(test), orient=\"index\", columns=[\"Test Score\"])\n",
    "\n",
    "print(\"Test Results:\\n\",prediction_metrics)"
   ]
  },
  {
   "cell_type": "code",
   "execution_count": 2,
   "metadata": {},
   "outputs": [
    {
     "name": "stderr",
     "output_type": "stream",
     "text": [
      "/home/jykim/anaconda3/envs/autogluon/lib/python3.10/site-packages/tqdm/auto.py:21: TqdmWarning: IProgress not found. Please update jupyter and ipywidgets. See https://ipywidgets.readthedocs.io/en/stable/user_install.html\n",
      "  from .autonotebook import tqdm as notebook_tqdm\n"
     ]
    },
    {
     "name": "stdout",
     "output_type": "stream",
     "text": [
      "Data include:\n",
      " dict_keys(['train_data', 'test_data'])\n",
      "Test Results:\n",
      "                    Test Score\n",
      "roc_auc              0.943863\n",
      "accuracy             0.878340\n",
      "balanced_accuracy    0.852084\n",
      "mcc                  0.719149\n",
      "f1                   0.806527\n",
      "precision            0.839127\n",
      "recall               0.776365\n"
     ]
    }
   ],
   "source": [
    "import gzip\n",
    "import pickle\n",
    "\n",
    "import pandas as pd\n",
    "import numpy as np\n",
    "from autogluon.tabular import TabularDataset, TabularPredictor\n",
    "from rdkit.Chem import Descriptors\n",
    "from rdkit import Chem\n",
    "from pathlib import Path\n",
    "\n",
    "# load dataset\n",
    "with gzip.open(\"/home/jykim/Project_poster/final_presentation/dataset.pkl\", \"rb\") as f:\n",
    "    data = pickle.load(f)\n",
    "\n",
    "print(\"Data include:\\n\",data.keys())\n",
    "\n",
    "## drop unnecessary columns\n",
    "test = data['test_data'].drop([\"COSMIC.ID\",\"pubchem\",\"SMILES\",\"SMILES2\"], axis=1)\n",
    "\n",
    "# load model\n",
    "predictor = TabularPredictor.load(\"checkpoints/231106_chem_Circular_FP_exp_128_mut_30/\")\n",
    "prediction_metrics = pd.DataFrame.from_dict(predictor.evaluate(test), orient=\"index\", columns=[\"Test Score\"])\n",
    "\n",
    "print(\"Test Results:\\n\",prediction_metrics)"
   ]
  },
  {
   "cell_type": "code",
   "execution_count": null,
   "metadata": {},
   "outputs": [],
   "source": []
  }
 ],
 "metadata": {
  "kernelspec": {
   "display_name": "autogluon",
   "language": "python",
   "name": "autogluon"
  },
  "language_info": {
   "codemirror_mode": {
    "name": "ipython",
    "version": 3
   },
   "file_extension": ".py",
   "mimetype": "text/x-python",
   "name": "python",
   "nbconvert_exporter": "python",
   "pygments_lexer": "ipython3",
   "version": "3.10.12"
  }
 },
 "nbformat": 4,
 "nbformat_minor": 2
}
